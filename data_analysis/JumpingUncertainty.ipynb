{
 "cells": [
  {
   "cell_type": "markdown",
   "metadata": {},
   "source": [
    "# Would you Jump?\n",
    "![title](img/would_you_jump.png)"
   ]
  },
  {
   "cell_type": "markdown",
   "metadata": {},
   "source": [
    "# Bunjee Jumping Model\n",
    "$\\LARGE{h_{min} = H - \\frac{2M_g}{K_{el}\\sigma}}$\n",
    "\n",
    "$h_{min}$ = minimum distance to surface, m\n",
    "\n",
    "H = distance from platform to surface, m\n",
    "\n",
    "M = mass of jumper, kg\n",
    "\n",
    "$\\sigma$ = number of strands in a cord, integer\n",
    "\n",
    "$k_{el}$ = elastic constant of material, N/m ~ 1.5\n",
    "\n",
    "g = gravity constant, 9.81 $\\frac{m}{sec^2}$"
   ]
  },
  {
   "cell_type": "markdown",
   "metadata": {},
   "source": [
    "## Example:\n",
    "A 70 kg (M) person is jumping 50m (H) with a cord made of 30 strands ($\\sigma$ = 30) and elasticity $k_{el}$ = 1.5 N/m\n",
    "\n",
    "What is the minimal distance to surface the person will reach?"
   ]
  },
  {
   "cell_type": "code",
   "execution_count": null,
   "metadata": {},
   "outputs": [],
   "source": [
    "# Constants:\n",
    "g = 9.81\n",
    "# Variables\n",
    "mass = 70\n",
    "height = 50\n",
    "strands = 30\n",
    "elasticity = 1.5\n",
    "# Calculation\n",
    "h_min = height - (2*mass*g)/(elasticity*strands)\n",
    "# Result\n",
    "print(f\"Minimal heigh: {h_min:.2f}m\")"
   ]
  },
  {
   "cell_type": "markdown",
   "metadata": {},
   "source": [
    "# How would you jump?\n",
    "# Uncertainty of life - Monte-Carlo Uncertainty Analysis"
   ]
  },
  {
   "cell_type": "markdown",
   "metadata": {},
   "source": [
    "H: 40-60 m from topographical analysis\n",
    "\n",
    "M: 67-74 kg (+/- 5%) physiological\n",
    "\n",
    "$\\sigma$: 20-40 based on vendor survey\n",
    "\n",
    "$k_{el}$: 1.475-1.525 N/m, 5% variation based on manufacturer data\n",
    "\n",
    "Input factor is anything that would change the model/system outputs (parameters, initial, and boundary conditions)"
   ]
  },
  {
   "cell_type": "code",
   "execution_count": null,
   "metadata": {},
   "outputs": [],
   "source": [
    "# Monte-Carlo Simulation Calculation\n",
    "# Imports\n",
    "from random import uniform\n",
    "from random import randint\n",
    "\n",
    "# Inputs\n",
    "height_min = 40\n",
    "height_max = 60\n",
    "mass_min = 67\n",
    "mass_max = 74\n",
    "strands_min = 25\n",
    "strands_max = 40\n",
    "el_min = 1.475\n",
    "el_max = 1.525\n",
    "num_simulations = 3000\n",
    "# Distribution of results\n",
    "results = []\n",
    "for i in range(num_simulations):\n",
    "    height = uniform(height_min, height_max)\n",
    "    mass = uniform(mass_min, mass_max)\n",
    "    strands = randint(strands_min, strands_max)\n",
    "    elasticity = uniform(el_min, el_max)\n",
    "    h_min = height - (2*mass*g)/(elasticity*strands)\n",
    "    # print(f\"H: {height}, M: {mass}, S: {strands}, E: {elasticity}, Min: {h_min}\")\n",
    "    results.append(h_min)\n",
    "formatted_results = [f\"{x:.2f}\" for x in sorted(results)]\n",
    "print(len(results))\n",
    "# print(f\"Resulting Distribution: {formatted_results}\")"
   ]
  },
  {
   "cell_type": "code",
   "execution_count": null,
   "metadata": {},
   "outputs": [],
   "source": [
    "# Display Results\n",
    "import numpy as np\n",
    "import pandas as pd\n",
    "from bokeh.plotting import figure, output_file, show\n",
    "from bokeh.io import output_notebook\n",
    "from bokeh.models import Span\n",
    "\n",
    "p = figure(plot_width=400, plot_height=400, title = 'Histogram of Minimal Height',\n",
    "          x_axis_label = 'Simulation]', \n",
    "           y_axis_label = 'Hmin, m')\n",
    "\n",
    "df = pd.DataFrame({'h_min': results})\n",
    "\n",
    "print(df.describe())\n",
    "\n",
    "hist, edges = np.histogram(df['h_min'], \n",
    "                           bins = int(47/3), \n",
    "                           range = [-3, 38])\n",
    "\n",
    "jumps = pd.DataFrame({'h_min': hist, \n",
    "                       'left': edges[:-1], \n",
    "                       'right': edges[1:]})\n",
    "\n",
    "p.quad(bottom=0, top=jumps['h_min'], \n",
    "       left=jumps['left'], right=jumps['right'], \n",
    "       fill_color='red', line_color='black')\n",
    "\n",
    "vline = Span(location=0, dimension='height', line_color='blue', line_width=3)\n",
    "p.renderers.extend([vline])\n",
    "\n",
    "output_notebook()\n",
    "\n",
    "show(p)"
   ]
  },
  {
   "cell_type": "code",
   "execution_count": null,
   "metadata": {},
   "outputs": [],
   "source": [
    "import this"
   ]
  },
  {
   "cell_type": "code",
   "execution_count": null,
   "metadata": {},
   "outputs": [],
   "source": []
  }
 ],
 "metadata": {
  "kernelspec": {
   "display_name": "RC Py3-3.6.5",
   "language": "python",
   "name": "python3-ufrc-3.6.5"
  },
  "language_info": {
   "codemirror_mode": {
    "name": "ipython",
    "version": 3
   },
   "file_extension": ".py",
   "mimetype": "text/x-python",
   "name": "python",
   "nbconvert_exporter": "python",
   "pygments_lexer": "ipython3",
   "version": "3.6.5"
  }
 },
 "nbformat": 4,
 "nbformat_minor": 2
}
