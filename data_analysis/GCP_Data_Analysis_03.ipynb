{
 "cells": [
  {
   "cell_type": "markdown",
   "metadata": {},
   "source": [
    "# Grammar of Graphics Plotting\n",
    "This tutorial is based on [Data Carpentry Python Ecology Lesson](https://datacarpentry.org/python-ecology-lesson)\n",
    "Use plotnine library to create plots of structured data based on the R implementation of ggplot2 and [The Grammar of Graphics](http://link.springer.com/book/10.1007%2F0-387-28695-0) by Leland Wilkinson"
   ]
  },
  {
   "cell_type": "code",
   "execution_count": null,
   "metadata": {},
   "outputs": [],
   "source": [
    "%matplotlib inline\n",
    "import plotnine as p9"
   ]
  },
  {
   "cell_type": "code",
   "execution_count": null,
   "metadata": {},
   "outputs": [],
   "source": [
    "import pandas as pd\n",
    "\n",
    "surveys_complete = pd.read_csv('data/surveys.csv')\n",
    "surveys_complete = surveys_complete.dropna()\n",
    "surveys_complete.head()"
   ]
  },
  {
   "cell_type": "markdown",
   "metadata": {},
   "source": [
    "## Introduction"
   ]
  },
  {
   "cell_type": "code",
   "execution_count": null,
   "metadata": {},
   "outputs": [],
   "source": [
    "# Bind plot to a dataframe\n",
    "(p9.ggplot(data=surveys_complete))"
   ]
  },
  {
   "cell_type": "code",
   "execution_count": null,
   "metadata": {},
   "outputs": [],
   "source": [
    "# Define aes (Aesthetics) of the plot\n",
    "# The most important aes mappings are: x, y, alpha, color, colour, fill, linetype, shape, size and stroke.\n",
    "(p9.ggplot(data=surveys_complete,\n",
    "           mapping=p9.aes(x='weight', y='hindfoot_length')))"
   ]
  },
  {
   "cell_type": "code",
   "execution_count": null,
   "metadata": {},
   "outputs": [],
   "source": [
    "# Choose how to plot data (points)\n",
    "# Create\n",
    "surveys_plot = p9.ggplot(data=surveys_complete,\n",
    "           mapping=p9.aes(x='weight', y='hindfoot_length'))\n",
    "# Plot  \n",
    "surveys_plot + p9.geom_point()"
   ]
  },
  {
   "cell_type": "markdown",
   "metadata": {},
   "source": [
    "## Iterative building"
   ]
  },
  {
   "cell_type": "code",
   "execution_count": null,
   "metadata": {},
   "outputs": [],
   "source": [
    "(p9.ggplot(data=surveys_complete,\n",
    "           mapping=p9.aes(x='weight', y='hindfoot_length'))\n",
    "    + p9.geom_point()\n",
    ")"
   ]
  },
  {
   "cell_type": "code",
   "execution_count": null,
   "metadata": {},
   "outputs": [],
   "source": [
    "# Add transparency\n",
    "(p9.ggplot(data=surveys_complete,\n",
    "           mapping=p9.aes(x='weight', y='hindfoot_length'))\n",
    "    + p9.geom_point(alpha=0.1)\n",
    ")"
   ]
  },
  {
   "cell_type": "code",
   "execution_count": null,
   "metadata": {},
   "outputs": [],
   "source": [
    "# Add colors\n",
    "(p9.ggplot(data=surveys_complete,\n",
    "           mapping=p9.aes(x='weight', y='hindfoot_length'))\n",
    "    + p9.geom_point(alpha=0.1, color='blue')\n",
    ")"
   ]
  },
  {
   "cell_type": "code",
   "execution_count": null,
   "metadata": {},
   "outputs": [],
   "source": [
    "# Color each species differently\n",
    "(p9.ggplot(data=surveys_complete,\n",
    "           mapping=p9.aes(x='weight',\n",
    "                          y='hindfoot_length',\n",
    "                          color='species_id'))\n",
    "    + p9.geom_point(alpha=0.1)\n",
    ")"
   ]
  },
  {
   "cell_type": "code",
   "execution_count": null,
   "metadata": {},
   "outputs": [],
   "source": [
    "# Add elements like axis labels\n",
    "(p9.ggplot(data=surveys_complete,\n",
    "           mapping=p9.aes(x='weight', y='hindfoot_length', color='species_id'))\n",
    "    + p9.geom_point(alpha=0.1)\n",
    "    + p9.xlab(\"Weight, g\")\n",
    "    + p9.ylab(\"Hind Foot Length, mm\")\n",
    ")"
   ]
  },
  {
   "cell_type": "code",
   "execution_count": null,
   "metadata": {},
   "outputs": [],
   "source": [
    "# Log scale for X-axis\n",
    "(p9.ggplot(data=surveys_complete,\n",
    "           mapping=p9.aes(x='weight', y='hindfoot_length', color='species_id'))\n",
    "    + p9.geom_point(alpha=0.1)\n",
    "    + p9.xlab(\"Weight, g\")\n",
    "    + p9.ylab(\"Hind Foot Length, mm\")\n",
    "    + p9.scale_x_log10()\n",
    ")"
   ]
  },
  {
   "cell_type": "code",
   "execution_count": null,
   "metadata": {},
   "outputs": [],
   "source": [
    "# Modify the plot theme e.g. white background\n",
    "(p9.ggplot(data=surveys_complete,\n",
    "           mapping=p9.aes(x='weight', y='hindfoot_length', color='species_id'))\n",
    "    + p9.geom_point(alpha=0.1)\n",
    "    + p9.xlab(\"Weight, g\")\n",
    "    + p9.ylab(\"Hind Foot Length, mm\")\n",
    "    + p9.scale_x_log10()\n",
    "    + p9.theme_bw()\n",
    "    + p9.theme(text=p9.element_text(size=16))\n",
    ")"
   ]
  },
  {
   "cell_type": "code",
   "execution_count": null,
   "metadata": {},
   "outputs": [],
   "source": [
    "# Bar Chart\n",
    "(p9.ggplot(data=surveys_complete,\n",
    "           mapping=p9.aes(x='plot_id'))\n",
    "    + p9.geom_bar()\n",
    ")"
   ]
  },
  {
   "cell_type": "code",
   "execution_count": null,
   "metadata": {},
   "outputs": [],
   "source": [
    "# Map a variable to fill color of bars\n",
    "(p9.ggplot(data=surveys_complete,\n",
    "           mapping=p9.aes(x='plot_id',\n",
    "                          fill='sex'))\n",
    "    + p9.geom_bar()\n",
    "    + p9.scale_fill_manual([\"blue\", \"orange\"])\n",
    ")"
   ]
  },
  {
   "cell_type": "code",
   "execution_count": null,
   "metadata": {},
   "outputs": [],
   "source": [
    "# Alternative to box plot - violin plot to show the shape of the distribution\n",
    "(p9.ggplot(data=surveys_complete,\n",
    "           mapping=p9.aes(x='species_id',\n",
    "                          y='weight',\n",
    "                          color='factor(plot_id)'))\n",
    "    + p9.geom_jitter(alpha=0.3)\n",
    "    + p9.geom_violin(alpha=0, color=\"0.7\")\n",
    "    + p9.scale_y_log10()\n",
    ")"
   ]
  },
  {
   "cell_type": "markdown",
   "metadata": {},
   "source": [
    "## Plotting Distributions"
   ]
  },
  {
   "cell_type": "code",
   "execution_count": null,
   "metadata": {},
   "outputs": [],
   "source": [
    "(p9.ggplot(data=surveys_complete,\n",
    "           mapping=p9.aes(x='species_id',\n",
    "                          y='weight'))\n",
    "    + p9.geom_boxplot()\n",
    ")"
   ]
  },
  {
   "cell_type": "code",
   "execution_count": null,
   "metadata": {},
   "outputs": [],
   "source": [
    "# Show points\n",
    "(p9.ggplot(data=surveys_complete,\n",
    "           mapping=p9.aes(x='species_id',\n",
    "                          y='weight'))\n",
    "    + p9.geom_jitter(alpha=0.2)\n",
    "    + p9.geom_boxplot(alpha=0.)\n",
    ")"
   ]
  },
  {
   "cell_type": "markdown",
   "metadata": {},
   "source": [
    "## Plotting Time Series"
   ]
  },
  {
   "cell_type": "code",
   "execution_count": null,
   "metadata": {},
   "outputs": [],
   "source": [
    "yearly_counts = surveys_complete.groupby(['year', 'species_id'])['species_id'].count()\n",
    "yearly_counts = yearly_counts.reset_index(name='counts')\n",
    "yearly_counts.head()"
   ]
  },
  {
   "cell_type": "code",
   "execution_count": null,
   "metadata": {},
   "outputs": [],
   "source": [
    "(p9.ggplot(data=yearly_counts,\n",
    "           mapping=p9.aes(x='year',\n",
    "                          y='counts',\n",
    "                          color='species_id'))\n",
    "    + p9.geom_line()\n",
    ")"
   ]
  },
  {
   "cell_type": "markdown",
   "metadata": {},
   "source": [
    "## Faceting"
   ]
  },
  {
   "cell_type": "code",
   "execution_count": null,
   "metadata": {},
   "outputs": [],
   "source": [
    "(p9.ggplot(data=surveys_complete,\n",
    "           mapping=p9.aes(x='weight',\n",
    "                          y='hindfoot_length',\n",
    "                          color='species_id'))\n",
    "    + p9.geom_point(alpha=0.1)\n",
    ")"
   ]
  },
  {
   "cell_type": "code",
   "execution_count": null,
   "metadata": {},
   "outputs": [],
   "source": [
    "# Wrap facet on a chosen variable, like 'sex'\n",
    "(p9.ggplot(data=surveys_complete,\n",
    "           mapping=p9.aes(x='weight',\n",
    "                          y='hindfoot_length',\n",
    "                          color='species_id'))\n",
    "    + p9.geom_point(alpha=0.1)\n",
    "    + p9.facet_wrap(\"sex\")\n",
    ")"
   ]
  },
  {
   "cell_type": "code",
   "execution_count": null,
   "metadata": {},
   "outputs": [],
   "source": [
    "# Any category will work\n",
    "(p9.ggplot(data=surveys_complete,\n",
    "           mapping=p9.aes(x='weight',\n",
    "                          y='hindfoot_length',\n",
    "                          color='species_id'))\n",
    "    + p9.geom_point(alpha=0.1)\n",
    "    + p9.facet_wrap(\"plot_id\")\n",
    ")"
   ]
  },
  {
   "cell_type": "code",
   "execution_count": null,
   "metadata": {},
   "outputs": [],
   "source": [
    "my_plot = (p9.ggplot(data=surveys_complete,\n",
    "           mapping=p9.aes(x='weight', y='hindfoot_length', color='species_id')                                        )\n",
    "    + p9.geom_point(alpha=0.2)\n",
    "    + p9.scale_x_log10()\n",
    ")\n",
    "my_plot"
   ]
  },
  {
   "cell_type": "code",
   "execution_count": null,
   "metadata": {},
   "outputs": [],
   "source": [
    "my_plot.save('img/scatterplot.png', width=10, height=10, dpi=300)"
   ]
  },
  {
   "cell_type": "code",
   "execution_count": null,
   "metadata": {},
   "outputs": [],
   "source": []
  }
 ],
 "metadata": {
  "kernelspec": {
   "display_name": "RC Py3-3.6.5",
   "language": "python",
   "name": "python3-ufrc-3.6.5"
  },
  "language_info": {
   "codemirror_mode": {
    "name": "ipython",
    "version": 3
   },
   "file_extension": ".py",
   "mimetype": "text/x-python",
   "name": "python",
   "nbconvert_exporter": "python",
   "pygments_lexer": "ipython3",
   "version": "3.6.5"
  }
 },
 "nbformat": 4,
 "nbformat_minor": 2
}
