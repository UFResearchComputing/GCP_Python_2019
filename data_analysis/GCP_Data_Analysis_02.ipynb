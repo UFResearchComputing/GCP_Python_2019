{
 "cells": [
  {
   "cell_type": "markdown",
   "metadata": {},
   "source": [
    "Back to [Section 1](GCP_Data_Analysis_01.ipynb)"
   ]
  },
  {
   "cell_type": "markdown",
   "metadata": {
    "deletable": true,
    "editable": true
   },
   "source": [
    "# Plotting with Pandas and Matplotlib\n",
    "\n",
    "This tutorial is based on [Data Carpentry Python Ecology Lesson](https://datacarpentry.org/python-ecology-lesson)\n",
    "\n",
    "**GOALS**: \n",
    "\n",
    "- Use matplotlib to customize plots\n",
    "\n",
    "- Plot data from Pandas DataFrame\n",
    "\n",
    "- Use Seaborn to include additional Features in Visualizations\n"
   ]
  },
  {
   "cell_type": "markdown",
   "metadata": {
    "deletable": true,
    "editable": true
   },
   "source": [
    "## Matplotlib in the Notebook\n",
    "\n",
    "We can use the Jupyter notebooks to investigate the plots interactively by using the `%matplotlib notebook` command.  By doing so, we create a figure object embedded in the notebook that also allows saving, paning, and zooming.  Further, we can continue to interact with a single plot across many cells unlike the more traditional `%matplotlib inline` magic command.\n",
    "\n",
    "First, we import the plotting library `pyplot` and abbreviate it as `plt`.  We also set the style to be `seaborn-white`, a clean simple background.  We also import the Pandas and Numpy libraries per usual.  "
   ]
  },
  {
   "cell_type": "code",
   "execution_count": null,
   "metadata": {
    "collapsed": true,
    "deletable": true,
    "editable": true
   },
   "outputs": [],
   "source": [
    "%matplotlib inline\n",
    "import matplotlib.pyplot as plt\n",
    "plt.style.use('seaborn-white')\n",
    "\n",
    "import numpy as np\n",
    "import pandas as pd"
   ]
  },
  {
   "cell_type": "markdown",
   "metadata": {
    "deletable": true,
    "editable": true
   },
   "source": [
    "### A Simple ScatterPlot\n",
    "\n",
    "To create a scatterplot, we can generate some random numbers using the `np.random.randn()` function to represent the *x, y, color,* and *size* of the points for the plot.  Next, we create a figure and assign an optional `figsize` argument.  Finally, we apply the `BuPu` colormap available from matplotlib's built-in colormaps.\n",
    "\n",
    "Somewhat like `ggplot2`, we can continue to add elements with additional lines.  For example, we add a main title and $x$ and $y$ axis labels."
   ]
  },
  {
   "cell_type": "code",
   "execution_count": null,
   "metadata": {
    "collapsed": false,
    "deletable": true,
    "editable": true
   },
   "outputs": [],
   "source": [
    "x = np.random.randn(50)\n",
    "y = np.random.randn(50)\n",
    "colors = np.random.rand(50)\n",
    "sizes = 1000 * np.random.rand(10)\n",
    "\n",
    "plt.figure(figsize = (10, 8))\n",
    "plt.scatter(x, y, c=colors, s=sizes, alpha=0.4, cmap='BuPu')\n",
    "plt.title(\"A Simple ScatterPlot\")\n",
    "plt.xlabel(\"A Label for X\")\n",
    "plt.ylabel(\"A Label for Y\")"
   ]
  },
  {
   "cell_type": "markdown",
   "metadata": {
    "deletable": true,
    "editable": true
   },
   "source": [
    "## Pandas and Matplotlib\n",
    "\n",
    "We can load the `surveys_complete.csv` dataset into the notebook as a DataFrame named df. Now, we can call plot functions on the DataFrame itself or with a conventional matplotlib approach.\n",
    "\n",
    "Similar to the first example, we can directly name the $x$ and $y$ values by reference to the DataFrame's column names.  By taking a quick peek at the head of the dataframe we can see the names of the columns that we are interested in plotting and call them accordingly."
   ]
  },
  {
   "cell_type": "code",
   "execution_count": null,
   "metadata": {
    "collapsed": false,
    "deletable": true,
    "editable": true
   },
   "outputs": [],
   "source": [
    "df = pd.read_csv( 'data/surveys_complete.csv', index_col=0)"
   ]
  },
  {
   "cell_type": "code",
   "execution_count": null,
   "metadata": {
    "collapsed": false,
    "deletable": true,
    "editable": true
   },
   "outputs": [],
   "source": [
    "df.head()\n",
    "#print(df.count())"
   ]
  },
  {
   "cell_type": "code",
   "execution_count": null,
   "metadata": {
    "collapsed": false,
    "deletable": true,
    "editable": true
   },
   "outputs": [],
   "source": [
    "plt.figure(figsize = (10, 8))\n",
    "plt.scatter(df['weight'], df['hindfoot_length'])"
   ]
  },
  {
   "cell_type": "code",
   "execution_count": null,
   "metadata": {},
   "outputs": [],
   "source": [
    "df = pd.read_csv( 'data/surveys.csv', index_col=0)\n",
    "df.head()\n",
    "#pd.unique(df['species_id'])"
   ]
  },
  {
   "cell_type": "code",
   "execution_count": null,
   "metadata": {
    "collapsed": false,
    "deletable": true,
    "editable": true
   },
   "outputs": [],
   "source": [
    "plt.figure(figsize = (12,10))\n",
    "plt.scatter(df['weight'], df['hindfoot_length'], s = df['weight']*4, alpha = 0.15, c = df['plot_id'], cmap = 'magma')\n",
    "plt.title(\"Information About Animals Physique and Foot\")\n",
    "plt.xlabel(\"Weight\")\n",
    "plt.ylabel(\"Hindfoot Length\")"
   ]
  },
  {
   "cell_type": "markdown",
   "metadata": {
    "deletable": true,
    "editable": true
   },
   "source": [
    "## Plotting From the DataFrame\n",
    "\n",
    "We can also plot directly from the DataFrame.  Now, the `figsize` argument is a keyword in the scatter function itself.  This demonstrates the range of direct plotting methods available.  For more help with the DataFrame plotting use the built-in help with `df.plot?`.  \n",
    "\n",
    "Below, you see a scatterplot and a boxplot produced from the DataFrame with a single call."
   ]
  },
  {
   "cell_type": "code",
   "execution_count": null,
   "metadata": {
    "collapsed": false,
    "deletable": true,
    "editable": true,
    "scrolled": false
   },
   "outputs": [],
   "source": [
    "df.plot.scatter('weight', 'hindfoot_length', c = 'plot_id', cmap = 'viridis', figsize = (10, 8),\n",
    "                title= \"Plotting from the DataFrame\")"
   ]
  },
  {
   "cell_type": "code",
   "execution_count": null,
   "metadata": {
    "collapsed": false,
    "deletable": true,
    "editable": true
   },
   "outputs": [],
   "source": [
    "df.boxplot('hindfoot_length', by = 'species_id', figsize = (10, 8))"
   ]
  },
  {
   "cell_type": "markdown",
   "metadata": {
    "deletable": true,
    "editable": true
   },
   "source": [
    "## Seaborn\n",
    "\n",
    "The Seaborn Library provides additional plotting functionality for data visualization in Python.  Here, we show how Seaborn produces a typical regression plot, a boxplot factored by sex, and a jointplot with histograms on the axes.  Finally, we add some additional layers to the boxplot by using a violinplot that is split by the `sex` variable."
   ]
  },
  {
   "cell_type": "code",
   "execution_count": null,
   "metadata": {
    "collapsed": true,
    "deletable": true,
    "editable": true
   },
   "outputs": [],
   "source": [
    "import seaborn as sns\n",
    "sns.set_style(\"whitegrid\")"
   ]
  },
  {
   "cell_type": "code",
   "execution_count": null,
   "metadata": {
    "collapsed": false,
    "deletable": true,
    "editable": true
   },
   "outputs": [],
   "source": [
    "plt.figure()\n",
    "sns.regplot(x, y)"
   ]
  },
  {
   "cell_type": "code",
   "execution_count": null,
   "metadata": {
    "collapsed": false,
    "deletable": true,
    "editable": true,
    "scrolled": false
   },
   "outputs": [],
   "source": [
    "sns.jointplot('weight', 'hindfoot_length', data = df, size = 9, color = 'darkorchid', alpha = 0.4)"
   ]
  },
  {
   "cell_type": "code",
   "execution_count": null,
   "metadata": {
    "collapsed": false,
    "deletable": true,
    "editable": true,
    "scrolled": false
   },
   "outputs": [],
   "source": [
    "plt.figure(figsize = (12,10))\n",
    "sns.violinplot('species_id', 'hindfoot_length', hue = 'sex',\n",
    "              data = df,   split = True, inner = 'quartile',\n",
    "              palette = ['fuchsia', 'gainsboro'])\n",
    "plt.title(\"ID and Hindfoot Length by Gender\")"
   ]
  },
  {
   "cell_type": "code",
   "execution_count": null,
   "metadata": {},
   "outputs": [],
   "source": [
    "# Basic descriptive statistics\n",
    "df['weight'].describe()"
   ]
  },
  {
   "cell_type": "code",
   "execution_count": null,
   "metadata": {},
   "outputs": [],
   "source": [
    "print(df['weight'].min(),\n",
    "df['weight'].max(),\n",
    "df['weight'].mean(),\n",
    "df['weight'].std(),\n",
    "df['weight'].count())"
   ]
  },
  {
   "cell_type": "code",
   "execution_count": null,
   "metadata": {},
   "outputs": [],
   "source": [
    "grouped_data = df.groupby('sex')"
   ]
  },
  {
   "cell_type": "code",
   "execution_count": null,
   "metadata": {},
   "outputs": [],
   "source": [
    "# Summary statistics for all numeric columns by sex\n",
    "grouped_data.describe()\n",
    "# Provide the mean for each numeric column by sex\n",
    "grouped_data.mean()"
   ]
  },
  {
   "cell_type": "code",
   "execution_count": null,
   "metadata": {},
   "outputs": [],
   "source": [
    "df = pd.read_csv( 'data/surveys_complete.csv', index_col=0)\n",
    "# Count the number of samples by species\n",
    "species_counts = df.groupby('species_id')['record_id'].count()\n",
    "print(species_counts)"
   ]
  },
  {
   "cell_type": "code",
   "execution_count": null,
   "metadata": {},
   "outputs": [],
   "source": [
    "# Count single species\n",
    "df.groupby('species_id')['record_id'].count()['DO']"
   ]
  },
  {
   "cell_type": "code",
   "execution_count": null,
   "metadata": {},
   "outputs": [],
   "source": [
    "# Calculate double weight\n",
    "print(df['weight'].head())\n",
    "dw = df['weight']*2\n",
    "dw.head()"
   ]
  },
  {
   "cell_type": "markdown",
   "metadata": {},
   "source": [
    "Go to [Section 3](GCP_Data_Analysis_03.ipynb)"
   ]
  },
  {
   "cell_type": "code",
   "execution_count": null,
   "metadata": {},
   "outputs": [],
   "source": []
  }
 ],
 "metadata": {
  "kernelspec": {
   "display_name": "Python 3",
   "language": "python",
   "name": "python3"
  },
  "language_info": {
   "codemirror_mode": {
    "name": "ipython",
    "version": 3
   },
   "file_extension": ".py",
   "mimetype": "text/x-python",
   "name": "python",
   "nbconvert_exporter": "python",
   "pygments_lexer": "ipython3",
   "version": "3.7.3"
  }
 },
 "nbformat": 4,
 "nbformat_minor": 2
}
