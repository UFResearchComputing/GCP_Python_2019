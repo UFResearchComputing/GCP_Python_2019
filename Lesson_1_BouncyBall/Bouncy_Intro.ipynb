{
 "cells": [
  {
   "cell_type": "markdown",
   "metadata": {},
   "source": [
    "# Python Lesson 1: Bouncy Ball\n",
    "\n",
    "In GCP 2019, we are going to learn Python by exploring some simple games. Just like when learning to write, you first had to learn to read, we are going to start with a simple Python program and read through it to learn how it works. We will play with this program and learn the basics of Python and build your understanding of programming as we go.\n",
    "\n",
    "For this Lesson, you will use Anaconda's JupyterLab (you are probably already here).\n",
    "\n",
    "You need Python3 and the pygame module installed.\n",
    "\n",
    "To execute a notebook cell, either click the play button above, or type Alt-Enter when the cursor is in the cell.\n",
    "\n",
    "The bouncy.py script used here is adapted from [The Python Pygame Introduction](https://www.pygame.org/docs/tut/PygameIntro.html)."
   ]
  },
  {
   "cell_type": "markdown",
   "metadata": {},
   "source": [
    "## Launch the bouncy.py application\n",
    "\n",
    "Execute the cell below to run the bouncy.py script. When you have taken as much amazingness as you can handle, close the window that opens up or hit the Escape key."
   ]
  },
  {
   "cell_type": "code",
   "execution_count": 1,
   "metadata": {
    "scrolled": true
   },
   "outputs": [],
   "source": [
    "# NOTE: TO FIX BEFORE USE: Closing the app crashes the python kernel.\n",
    "# May need to launch bouncy.py from a terminal.\n",
    "#run bouncy.py"
   ]
  },
  {
   "cell_type": "markdown",
   "metadata": {},
   "source": [
    "## What just happened???\n",
    "\n",
    "OK, it's not Fortnite, but it is rather amazing if you ask me... \n",
    "<img src=\"https://media1.tenor.com/images/0ce90810bc72f34c9570b352f8e41e22/tenor.gif\" alt=\"Fortnite dancing\" width=100px align=\"right\"><br>\n",
    "Let's describe what the program did *in words* and then look at how it did those things in Python code.\n",
    "\n",
    "The bouncy.py application:\n",
    " * Creates a window on your monitor\n",
    " * Makes the window black\n",
    " * Loads a ball image on the window\n",
    " * Moves that image across the window\n",
    " * If the ball touches the sides of the window, the movement reverses (the ball bounces)\n"
   ]
  },
  {
   "cell_type": "markdown",
   "metadata": {},
   "source": [
    "Seems simple enough, and takes only about 50 lines of code, many of which are comments and spaces.\n",
    "\n",
    "[Open the bouncy.py file clicking here.](bouncy.py) Then drag the tab to the side so you can have this document and the bouncy.py script side-by-side."
   ]
  },
  {
   "cell_type": "markdown",
   "metadata": {},
   "source": [
    "## Looking at the bouncy.py code\n",
    "\n",
    "**Note:** Each of the following code blocks could be run individually if you want. \n",
    "\n",
    "The first line, not copied in the cell below (`#!/usr/bin/env python3`) is what we call the sha-bang line (short for \"Hash-bang\", where \"!\" = \"bang\") and tells the computer what program to use to run the script. In this case python3.\n",
    "\n",
    "\n",
    "### Import modules\n",
    "The next lines import extra functions, called **modules**, into Python. The developers of Python intentionally kept the core program small and many \"extra\" features need to be imported. In this case *sys* and *os* are modules for interacting with the system and *pygame* is the gaming module we are using."
   ]
  },
  {
   "cell_type": "code",
   "execution_count": 2,
   "metadata": {},
   "outputs": [
    {
     "name": "stdout",
     "output_type": "stream",
     "text": [
      "pygame 1.9.6\n",
      "Hello from the pygame community. https://www.pygame.org/contribute.html\n"
     ]
    }
   ],
   "source": [
    "import sys, os\n",
    "import pygame"
   ]
  },
  {
   "cell_type": "markdown",
   "metadata": {},
   "source": [
    "### Initialize pygame\n",
    "Next we tell pygame to initialize, or setup, the environment to run. The syntax here is the name of the module (pygame) and the method of that module we want to call (init). "
   ]
  },
  {
   "cell_type": "code",
   "execution_count": 3,
   "metadata": {},
   "outputs": [
    {
     "data": {
      "text/plain": [
       "(6, 0)"
      ]
     },
     "execution_count": 3,
     "metadata": {},
     "output_type": "execute_result"
    }
   ],
   "source": [
    "# Initialize pygame\n",
    "pygame.init()"
   ]
  },
  {
   "cell_type": "markdown",
   "metadata": {},
   "source": [
    "The output we get in Jupyter (`(6,0)`) means that 6 things correctly initialized and 0 failed. \n",
    "\n",
    "\n",
    "### Getting the display size\n",
    "Once the pygame environment is initialized, we can create a window to work in. To set the size of the window, we can use the method `pygame.display.Info().current_w` to get information about the display and take the width and then the height. **Note:** On computers with multiple displays, these will be the size of the main display.\n",
    "\n",
    "#### A note about Variables\n",
    "`width`, `height` and `size` are all **variables**. These are names that we can give to objects to store information in the computer's memory and then retrieve that information later. The command `pygame.display.Info().current_w` gets the display width and stores that in the `width` variable.\n"
   ]
  },
  {
   "cell_type": "code",
   "execution_count": 4,
   "metadata": {},
   "outputs": [],
   "source": [
    "# Set window width and height based on display size\n",
    "width = pygame.display.Info().current_w\n",
    "height = pygame.display.Info().current_h\n",
    "size = width, height"
   ]
  },
  {
   "cell_type": "markdown",
   "metadata": {},
   "source": [
    "Variables can store different kinds of information. Let's look at the `width` variable."
   ]
  },
  {
   "cell_type": "code",
   "execution_count": 5,
   "metadata": {},
   "outputs": [
    {
     "name": "stdout",
     "output_type": "stream",
     "text": [
      "1440\n"
     ]
    }
   ],
   "source": [
    "print(width)"
   ]
  },
  {
   "cell_type": "markdown",
   "metadata": {},
   "source": [
    "When you execute the above command, you should see the current width of your screen. 1440 in my case."
   ]
  },
  {
   "cell_type": "code",
   "execution_count": 6,
   "metadata": {},
   "outputs": [
    {
     "data": {
      "text/plain": [
       "int"
      ]
     },
     "execution_count": 6,
     "metadata": {},
     "output_type": "execute_result"
    }
   ],
   "source": [
    "type(width)"
   ]
  },
  {
   "cell_type": "markdown",
   "metadata": {},
   "source": [
    "This tells us the type of the variable `width`, in this case, is an `int` or integer (whole number)."
   ]
  },
  {
   "cell_type": "code",
   "execution_count": 7,
   "metadata": {},
   "outputs": [
    {
     "name": "stdout",
     "output_type": "stream",
     "text": [
      "(1440, 900)\n"
     ]
    },
    {
     "data": {
      "text/plain": [
       "tuple"
      ]
     },
     "execution_count": 7,
     "metadata": {},
     "output_type": "execute_result"
    }
   ],
   "source": [
    "print(size)\n",
    "type(size)"
   ]
  },
  {
   "cell_type": "markdown",
   "metadata": {},
   "source": [
    "`size` on the other hand is a variable of type \"tuple\", which is a set of two values.\n",
    "\n",
    "### Setting speed and color\n",
    "Getting back to the bouncy.py script, the next lines define a couple more variables.\n"
   ]
  },
  {
   "cell_type": "code",
   "execution_count": 8,
   "metadata": {},
   "outputs": [],
   "source": [
    "# Set speed of bouncing ball--how far the ball move should in each frame\n",
    "speed = [10, 10]\n",
    "\n",
    "# Define black with RBG settings of 0, 0, 0\n",
    "black = 0, 0, 0  "
   ]
  },
  {
   "cell_type": "markdown",
   "metadata": {},
   "source": [
    "### Make the screen\n",
    "\n",
    "Now it is time to create the window for our application. `pygame.display.set_mode(size)` creates the window using the dimension information stored in the `size` variable we defined above."
   ]
  },
  {
   "cell_type": "code",
   "execution_count": 9,
   "metadata": {},
   "outputs": [],
   "source": [
    "# Create a screen, setting size from above.\n",
    "screen = pygame.display.set_mode(size)"
   ]
  },
  {
   "cell_type": "markdown",
   "metadata": {},
   "source": [
    "Why don't I see a window at this point?? \n",
    "\n",
    "While we've created everything we need for the window, we haven't actually told pygame to display the window yet. That won't happen until we run the `display.flip()` line near the end of the code.\n",
    "\n",
    "### Tell Python where our ball image is located\n",
    "\n",
    "<img src=\"../assets/ball.gif\">The next lines use the `os` module to make a variable that stores the location of the assets directory, and then makes a variable `ball` that loads the ball image into a pygame object using pygame's `image.load` method. "
   ]
  },
  {
   "cell_type": "code",
   "execution_count": 10,
   "metadata": {},
   "outputs": [],
   "source": [
    "# Set path to assets folder and load the ball.gif file\n",
    "assets = os.path.join(os.pardir, \"assets\")\n",
    "ball = pygame.image.load(os.path.join(assets, \"ball.gif\"))"
   ]
  },
  {
   "cell_type": "markdown",
   "metadata": {},
   "source": [
    "### Get the coordinates of the ball image\n",
    "\n",
    "This is a bit odd, but we use the `get_rect()` method to get the coordinates of an object on a surface. In this case the \"screen\" we are using asking about is the `ball` surface itself, so the \"coordinates\" are really the size of the image and are returned as a rectangle from (0,0) to (111,111)--our ball fits in a box that is 111 pixels square."
   ]
  },
  {
   "cell_type": "code",
   "execution_count": 11,
   "metadata": {},
   "outputs": [],
   "source": [
    "# Get size of the rectangle enclosing the ball.\n",
    "ballrect = ball.get_rect()"
   ]
  },
  {
   "cell_type": "code",
   "execution_count": 12,
   "metadata": {},
   "outputs": [
    {
     "name": "stdout",
     "output_type": "stream",
     "text": [
      "<rect(0, 0, 111, 111)>\n"
     ]
    }
   ],
   "source": [
    "print(ballrect)"
   ]
  },
  {
   "cell_type": "markdown",
   "metadata": {},
   "source": [
    "## Loops \n",
    "<img src=\"../assets/notebook_images/detour.png\" alt=\"Detour sign\" width=100px>Before we can get too far into the main part of the program that does the cool stuff, we should learn about a couple of kinds of loops.\n",
    "\n",
    "A loop is a way to tell the computer to do something over and over.\n",
    "\n",
    "### while loops\n",
    "The bouncy.py program uses a while loop. It's kind of an odd while loop in that it will run **forever**--or at least until we do something to make it stop. `True` is **always** True...(no fake news, at least in programming...).\n",
    "\n",
    "The basic idea of a while loop is to tell the computer to do something over and over again while some condition is met. So, if we wanted to count to 10, we could tell the computer to start at 0 and count *while* our counter is under 11.\n"
   ]
  },
  {
   "cell_type": "code",
   "execution_count": 13,
   "metadata": {},
   "outputs": [
    {
     "name": "stdout",
     "output_type": "stream",
     "text": [
      "0\n",
      "1\n",
      "2\n",
      "3\n",
      "4\n",
      "5\n",
      "6\n",
      "7\n",
      "8\n",
      "9\n",
      "10\n"
     ]
    }
   ],
   "source": [
    "count = 0\n",
    "while count < 11:\n",
    "    print(count)\n",
    "    count = count + 1"
   ]
  },
  {
   "cell_type": "markdown",
   "metadata": {},
   "source": [
    "Notice that we had to increase the variable `count` in each loop, otherwise count would always be equal to 0 and the loop would continue printing 0's forever.\n",
    "\n",
    "### For loops\n",
    "\n",
    "Another handy loop is called a for loop. `for` loops are used to do something for a set of input values. That could be a range of numbers, a list of files, a set of images, or something else. \n",
    "\n",
    "The idea is that a list of some kind is used to pass into the for loop and for each element of the list, the things in the loop are executed. Each time through the loop, the current element of the list is assigned to a variable.\n",
    "\n",
    "Let's greet a bunch of people using a for loop"
   ]
  },
  {
   "cell_type": "code",
   "execution_count": 14,
   "metadata": {},
   "outputs": [
    {
     "name": "stdout",
     "output_type": "stream",
     "text": [
      "Hi Fred! How are you today?\n",
      "Hi Jane! How are you today?\n",
      "Hi Emily! How are you today?\n",
      "Hi Xandria! How are you today?\n",
      "Hi Imar! How are you today?\n",
      "Hi Sam! How are you today?\n"
     ]
    }
   ],
   "source": [
    "people=[\"Fred\", \"Jane\", \"Emily\", \"Xandria\", \"Imar\", \"Sam\"]\n",
    "\n",
    "for person in people:\n",
    "    print(\"Hi \" + person + \"! How are you today?\")"
   ]
  },
  {
   "cell_type": "markdown",
   "metadata": {},
   "source": [
    "**Play with loops a bit to make sure you understand how they work.** We'll see them a lot in the lessons.\n",
    "\n",
    "### `if` statements\n",
    "\n",
    "Another common programming tool used in the bouncy.py script is if statements.\n",
    "\n",
    "These are a way to test if some condition is met. For example, is it hot or cold today?"
   ]
  },
  {
   "cell_type": "code",
   "execution_count": 15,
   "metadata": {},
   "outputs": [
    {
     "name": "stdout",
     "output_type": "stream",
     "text": [
      "It's hot outside, it's 90 degrees!\n"
     ]
    }
   ],
   "source": [
    "temperature = 90\n",
    "\n",
    "if temperature > 80:\n",
    "    print(\"It's hot outside, it's %d degrees!\" %(temperature))"
   ]
  },
  {
   "cell_type": "markdown",
   "metadata": {},
   "source": [
    "What happens if you change `temperature` to 70?\n",
    "\n",
    "We didn't tell Python what to do if the temperature is less than or equal to 80, so nothing happens. Python keeps going and gets to the end of the code block.\n",
    "\n",
    "Let's add an `else` statement:"
   ]
  },
  {
   "cell_type": "code",
   "execution_count": 16,
   "metadata": {},
   "outputs": [
    {
     "name": "stdout",
     "output_type": "stream",
     "text": [
      "It's nice out, it's only 70 degrees!\n"
     ]
    }
   ],
   "source": [
    "temperature = 70\n",
    "\n",
    "if temperature > 80:\n",
    "    print(\"It's hot outside, it's %d degrees!\" %(temperature))\n",
    "else:\n",
    "    print(\"It's nice out, it's only %d degrees!\" %(temperature))"
   ]
  },
  {
   "cell_type": "markdown",
   "metadata": {},
   "source": [
    "An if statement can only have one `else`, but we can add multiple `elif`--short for \"else if\""
   ]
  },
  {
   "cell_type": "code",
   "execution_count": 17,
   "metadata": {},
   "outputs": [
    {
     "name": "stdout",
     "output_type": "stream",
     "text": [
      "Brrr...it's cold out! It's only 40 degress!!\n"
     ]
    }
   ],
   "source": [
    "temperature = 40\n",
    "\n",
    "if temperature > 80:\n",
    "    print(\"It's hot outside, it's %d degrees!\" %(temperature))\n",
    "elif temperature > 50:\n",
    "    print(\"It's nice out, it's only %d degrees!\" %(temperature))\n",
    "else:\n",
    "    print(\"Brrr...it's cold out! It's only %d degress!!\" %(temperature))"
   ]
  },
  {
   "cell_type": "markdown",
   "metadata": {},
   "source": [
    "## Returning to our program...\n",
    "\n",
    "<img src=\"../assets/notebook_images/detour_end.png\" alt=\"Detour sign\" width=100px>The bouncy.py script has one big while loop that starts at line 30 with `while True:` As mentioned above, that means that this loop will run until something makes it stop.\n",
    "\n",
    "Running this loop in Jupyter doesn't work too well, so the code below is not executable.\n",
    "\n",
    "### The main `while` loop\n",
    "<pre>\n",
    "# Start an infinite while loop.\n",
    "while True:\n",
    "\n",
    "</pre>\n",
    "Within the while loop, there's a for loop that goes through all of the pygame events that can happen while the program is running.\n",
    "<pre>\n",
    "for event in pygame.event.get():\n",
    "</pre>\n",
    "For each event in the list of events, we check the event.type and see if it matches QUIT or a key press (KEYDOWN) and if the key pressed is the ESCAPE key.\n",
    "<pre>\n",
    "if event.type == pygame.QUIT: \n",
    "    sys.exit()\n",
    "elif event.type == pygame.KEYDOWN and event.key == pygame.K_ESCAPE:\n",
    "    sys.exit()\n",
    "</pre>\n",
    "\n"
   ]
  },
  {
   "cell_type": "markdown",
   "metadata": {},
   "source": [
    "As long as we don't quit the program or hit escape, the while loop will keep going.\n",
    "\n",
    "### Move the ball\n",
    "With each loop, the `ballrect` is moved by the `speed` variable. \n",
    "\n",
    "We start with the ball at the top left (0,0) and then move it by `speed` (10,10). So in the first loop, the ball goes from (0,0) to (10,10)."
   ]
  },
  {
   "cell_type": "markdown",
   "metadata": {},
   "source": [
    "<pre>\n",
    "# Move the ballrect the distance indicated by speed. \n",
    "ballrect = ballrect.move(speed)\n",
    "</pre>\n",
    "\n",
    "### Bounce the ball\n",
    "Once we move the ball, we need to see if it hits the sides of the window. We can test if the left edge has a negative coordinate or if the right edge has a coordinate larger than the `width` we defined above. Similarly, we can do the same for the top and bottom.\n",
    "\n",
    "If we hit an edge, we invert the speed to make the ball move the other direction. \n",
    "<pre>\n",
    "# Handle running into edges of screen\n",
    "if ballrect.left < 0 or ballrect.right > width:\n",
    "    speed[0] = -speed[0] \n",
    "if ballrect.top < 0 or ballrect.bottom > height:\n",
    "   speed[1] = -speed[1]\n",
    "</pre>"
   ]
  },
  {
   "cell_type": "markdown",
   "metadata": {},
   "source": [
    "#### Lists\n",
    "`speed` is stored in a variable with type list:"
   ]
  },
  {
   "cell_type": "code",
   "execution_count": 18,
   "metadata": {},
   "outputs": [
    {
     "name": "stdout",
     "output_type": "stream",
     "text": [
      "[10, 10]\n"
     ]
    },
    {
     "data": {
      "text/plain": [
       "list"
      ]
     },
     "execution_count": 18,
     "metadata": {},
     "output_type": "execute_result"
    }
   ],
   "source": [
    "print(speed)\n",
    "type(speed)"
   ]
  },
  {
   "cell_type": "markdown",
   "metadata": {},
   "source": [
    "To access an element of a list, we can use it's index. The first element has the index of 0, the second 1, etc. Let's use an example:"
   ]
  },
  {
   "cell_type": "code",
   "execution_count": 19,
   "metadata": {},
   "outputs": [
    {
     "name": "stdout",
     "output_type": "stream",
     "text": [
      "2\n",
      "11\n"
     ]
    }
   ],
   "source": [
    "new_list=[2, 3, 5, 7, 11, 13, 17, 19, 23]\n",
    "print(new_list[0])\n",
    "print(new_list[4])"
   ]
  },
  {
   "cell_type": "markdown",
   "metadata": {},
   "source": [
    "So, `speed[0]` is the left/right motion and `speed[1]` is the up/down motion of the ball. With each loop, the ball moves based on the `speed` settings."
   ]
  },
  {
   "cell_type": "markdown",
   "metadata": {},
   "source": [
    "### Draw the ball\n",
    "\n",
    "Finally right!!\n",
    "\n",
    "The first step is to clear the screen by filling it with black.\n",
    "\n",
    "<pre>\n",
    "# Erase the screen by filling with black (defined above as 0, 0, 0)\n",
    "screen.fill(black)\n",
    "</pre>\n",
    "\n",
    "The second step is to put the ball image at the `ballrect` coordinates on the screen.\n",
    "\n",
    "<pre>\n",
    "# Blit the new ball position to the screen\n",
    "screen.blit(ball, ballrect)\n",
    "</pre>\n",
    "\n",
    "And lastly, now that the new frame is ready to show, flip from the current frame to the new frame.\n",
    "\n",
    "<pre>\n",
    "# Flip the screen with the new ball position.\n",
    "pygame.display.flip()\n",
    "</pre>"
   ]
  },
  {
   "cell_type": "markdown",
   "metadata": {},
   "source": [
    "And that's it!\n",
    "\n",
    "Frame-by-frame the ball is moved and you see it animated across the screen. When the ball hits a wall, the motion is reversed and it bounces off."
   ]
  },
  {
   "cell_type": "markdown",
   "metadata": {},
   "source": [
    "## Modify the code and see what happens\n",
    "\n",
    "Play with the code to see how you can change what happens. \n",
    "\n",
    "Some things to try:\n",
    "\n",
    " * To understand the need for filling the screen with black at each frame, comment out line 47, `screen.fill(black)` and see what happens.\n",
    " * Change the `speed` variable to make the ball move slower or faster.\n",
    " * Change the background color from black to something else\n",
    " * Change the ball to another image you download.\n",
    " "
   ]
  }
 ],
 "metadata": {
  "kernelspec": {
   "display_name": "Python 3",
   "language": "python",
   "name": "python3"
  },
  "language_info": {
   "codemirror_mode": {
    "name": "ipython",
    "version": 3
   },
   "file_extension": ".py",
   "mimetype": "text/x-python",
   "name": "python",
   "nbconvert_exporter": "python",
   "pygments_lexer": "ipython3",
   "version": "3.6.8"
  }
 },
 "nbformat": 4,
 "nbformat_minor": 2
}
